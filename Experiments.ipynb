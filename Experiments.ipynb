{
 "cells": [
  {
   "cell_type": "code",
   "execution_count": 1,
   "metadata": {
    "collapsed": true
   },
   "outputs": [],
   "source": [
    "from data import train_df, test_df\n",
    "import numpy as np\n",
    "import pandas as pd"
   ]
  },
  {
   "cell_type": "code",
   "execution_count": 7,
   "metadata": {
    "collapsed": false
   },
   "outputs": [
    {
     "name": "stdout",
     "output_type": "stream",
     "text": [
      "<class 'pandas.core.frame.DataFrame'>\n",
      "RangeIndex: 891 entries, 0 to 890\n",
      "Data columns (total 13 columns):\n",
      "PassengerId    891 non-null int64\n",
      "Survived       891 non-null int64\n",
      "Pclass         891 non-null int64\n",
      "Name           891 non-null object\n",
      "Sex            891 non-null int64\n",
      "Age            891 non-null float64\n",
      "SibSp          891 non-null int64\n",
      "Parch          891 non-null int64\n",
      "Ticket         891 non-null object\n",
      "Fare           891 non-null float64\n",
      "Cabin          204 non-null object\n",
      "Embarked       889 non-null object\n",
      "Child          891 non-null int64\n",
      "dtypes: float64(2), int64(7), object(4)\n",
      "memory usage: 90.6+ KB\n"
     ]
    }
   ],
   "source": [
    "train_df.info()"
   ]
  },
  {
   "cell_type": "code",
   "execution_count": null,
   "metadata": {
    "collapsed": false
   },
   "outputs": [],
   "source": [
    "train_df.describe()"
   ]
  },
  {
   "cell_type": "markdown",
   "metadata": {},
   "source": [
    "*Remover entradas que possuem NaN reduz bastante o tamanho do dataset*"
   ]
  },
  {
   "cell_type": "code",
   "execution_count": null,
   "metadata": {
    "collapsed": false
   },
   "outputs": [],
   "source": [
    "train_df.dropna().describe()"
   ]
  },
  {
   "cell_type": "markdown",
   "metadata": {},
   "source": [
    "## Análise inicial"
   ]
  },
  {
   "cell_type": "code",
   "execution_count": null,
   "metadata": {
    "collapsed": false
   },
   "outputs": [],
   "source": [
    "# pra ver quantas pessoas sobreviveram\n",
    "train_df[\"Survived\"].value_counts()"
   ]
  },
  {
   "cell_type": "code",
   "execution_count": null,
   "metadata": {
    "collapsed": false
   },
   "outputs": [],
   "source": [
    "# pra ver os percentuais de quem sobreviveu\n",
    "train_df[\"Survived\"].value_counts(normalize = True)"
   ]
  },
  {
   "cell_type": "code",
   "execution_count": null,
   "metadata": {
    "collapsed": false
   },
   "outputs": [],
   "source": [
    "# quantos homens sobreviveram\n",
    "train_df[\"Survived\"][train_df[\"Sex\"] == 'male'].value_counts(normalize=True)"
   ]
  },
  {
   "cell_type": "code",
   "execution_count": null,
   "metadata": {
    "collapsed": false
   },
   "outputs": [],
   "source": [
    "# quantas mulheres sobreviveram\n",
    "train_df[\"Survived\"][train_df[\"Sex\"] == 'female'].value_counts(normalize=True)"
   ]
  },
  {
   "cell_type": "markdown",
   "metadata": {},
   "source": [
    "Proporcionalmente, um número maior de mulheres sobreviveram. Seria por causa da política de \"mulheres e crianças primeiro\"?"
   ]
  },
  {
   "cell_type": "code",
   "execution_count": null,
   "metadata": {
    "collapsed": false
   },
   "outputs": [],
   "source": [
    "# Existe o campo \"Child\"?\n",
    "train_df.info()"
   ]
  },
  {
   "cell_type": "code",
   "execution_count": 2,
   "metadata": {
    "collapsed": false
   },
   "outputs": [
    {
     "data": {
      "text/plain": [
       "0    0.638817\n",
       "1    0.361183\n",
       "Name: Survived, dtype: float64"
      ]
     },
     "execution_count": 2,
     "metadata": {},
     "output_type": "execute_result"
    }
   ],
   "source": [
    "# Completando os valores em branco para a mediana da feature \"Age\"\n",
    "train_df['Age'] = train_df[\"Age\"].fillna(train_df[\"Age\"].median())\n",
    "train_df[\"Child\"] = 0\n",
    "children = train_df[\"Age\"] < 18\n",
    "train_df.loc[children, \"Child\"] = 1\n",
    "train_df[\"Survived\"][train_df[\"Child\"] == 0].value_counts(normalize=True)"
   ]
  },
  {
   "cell_type": "code",
   "execution_count": 3,
   "metadata": {
    "collapsed": false
   },
   "outputs": [],
   "source": [
    "# A feature 'Sex' precisa ser mapeada para inteiros\n",
    "train_df['Sex'] = train_df['Sex'].map({'male': 0, 'female': 1})"
   ]
  },
  {
   "cell_type": "code",
   "execution_count": 6,
   "metadata": {
    "collapsed": false
   },
   "outputs": [
    {
     "name": "stdout",
     "output_type": "stream",
     "text": [
      "[ 0.04533685  0.95466315]\n",
      "0.786756453423\n"
     ]
    }
   ],
   "source": [
    "# Vamos usar então as features 'Sex' e 'Child' para uma classificacao inicial\n",
    "from sklearn import tree\n",
    "\n",
    "# Separando o resultado e as features usadas\n",
    "target = train_df['Survived'].values\n",
    "initial_features = train_df[['Sex', 'Child']].values\n",
    "\n",
    "# Da classifier\n",
    "my_tree_one = tree.DecisionTreeClassifier().fit(initial_features, target)\n",
    "\n",
    "# Look at the importance of the included features and print the score\n",
    "print(my_tree_one.feature_importances_)\n",
    "print(my_tree_one.score(initial_features, target))"
   ]
  },
  {
   "cell_type": "code",
   "execution_count": 7,
   "metadata": {
    "collapsed": false
   },
   "outputs": [
    {
     "data": {
      "image/png": "[encoded data removed]",
      "text/plain": [
       "<IPython.core.display.Image object>"
      ]
     },
     "execution_count": 7,
     "metadata": {},
     "output_type": "execute_result"
    }
   ],
   "source": [
    "import pydotplus as pydot\n",
    "from sklearn.externals.six import StringIO\n",
    "from IPython.display import Image \n",
    "dotfile = StringIO()\n",
    "tree.export_graphviz(my_tree_one, out_file=dotfile)\n",
    "graph = pydot.graph_from_dot_data(dotfile.getvalue())\n",
    "Image(graph.create_png())"
   ]
  },
  {
   "cell_type": "markdown",
   "metadata": {},
   "source": [
    "A árvore de decisão funciona aplicando as decisões de cada nível ao exemplo passado como entrada. Ao se chegar a uma folha, a árvore checa o que aconteceu com a maioria dos exemplos que possuem aquelas características: se a maioria tiver sobrevivido, a árvore decide que o novo exemplo também deve ter sobrevivido. TODO: observações sobre o efeito de permutação de features na árvore resultante."
   ]
  },
  {
   "cell_type": "code",
   "execution_count": 38,
   "metadata": {
    "collapsed": false
   },
   "outputs": [
    {
     "data": {
      "text/html": [
       "<div>\n",
       "<table border=\"1\" class=\"dataframe\">\n",
       "  <thead>\n",
       "    <tr style=\"text-align: right;\">\n",
       "      <th></th>\n",
       "      <th></th>\n",
       "      <th>Age</th>\n",
       "      <th>Child</th>\n",
       "      <th>Fare</th>\n",
       "      <th>Parch</th>\n",
       "      <th>PassengerId</th>\n",
       "      <th>Pclass</th>\n",
       "      <th>Sex</th>\n",
       "      <th>SibSp</th>\n",
       "    </tr>\n",
       "    <tr>\n",
       "      <th>Survived</th>\n",
       "      <th></th>\n",
       "      <th></th>\n",
       "      <th></th>\n",
       "      <th></th>\n",
       "      <th></th>\n",
       "      <th></th>\n",
       "      <th></th>\n",
       "      <th></th>\n",
       "      <th></th>\n",
       "    </tr>\n",
       "  </thead>\n",
       "  <tbody>\n",
       "    <tr>\n",
       "      <th rowspan=\"8\" valign=\"top\">0</th>\n",
       "      <th>count</th>\n",
       "      <td>17.000000</td>\n",
       "      <td>17.0</td>\n",
       "      <td>17.000000</td>\n",
       "      <td>17.000000</td>\n",
       "      <td>17.000000</td>\n",
       "      <td>17.000000</td>\n",
       "      <td>17.0</td>\n",
       "      <td>17.000000</td>\n",
       "    </tr>\n",
       "    <tr>\n",
       "      <th>mean</th>\n",
       "      <td>8.441176</td>\n",
       "      <td>1.0</td>\n",
       "      <td>31.911765</td>\n",
       "      <td>1.411765</td>\n",
       "      <td>349.176471</td>\n",
       "      <td>2.882353</td>\n",
       "      <td>1.0</td>\n",
       "      <td>2.235294</td>\n",
       "    </tr>\n",
       "    <tr>\n",
       "      <th>std</th>\n",
       "      <td>5.061751</td>\n",
       "      <td>0.0</td>\n",
       "      <td>32.402672</td>\n",
       "      <td>0.795206</td>\n",
       "      <td>278.293064</td>\n",
       "      <td>0.485071</td>\n",
       "      <td>0.0</td>\n",
       "      <td>1.714986</td>\n",
       "    </tr>\n",
       "    <tr>\n",
       "      <th>min</th>\n",
       "      <td>2.000000</td>\n",
       "      <td>1.0</td>\n",
       "      <td>7.854200</td>\n",
       "      <td>0.000000</td>\n",
       "      <td>15.000000</td>\n",
       "      <td>1.000000</td>\n",
       "      <td>1.0</td>\n",
       "      <td>0.000000</td>\n",
       "    </tr>\n",
       "    <tr>\n",
       "      <th>25%</th>\n",
       "      <td>3.000000</td>\n",
       "      <td>1.0</td>\n",
       "      <td>15.245800</td>\n",
       "      <td>1.000000</td>\n",
       "      <td>115.000000</td>\n",
       "      <td>3.000000</td>\n",
       "      <td>1.0</td>\n",
       "      <td>1.000000</td>\n",
       "    </tr>\n",
       "    <tr>\n",
       "      <th>50%</th>\n",
       "      <td>9.000000</td>\n",
       "      <td>1.0</td>\n",
       "      <td>27.900000</td>\n",
       "      <td>2.000000</td>\n",
       "      <td>298.000000</td>\n",
       "      <td>3.000000</td>\n",
       "      <td>1.0</td>\n",
       "      <td>3.000000</td>\n",
       "    </tr>\n",
       "    <tr>\n",
       "      <th>75%</th>\n",
       "      <td>11.000000</td>\n",
       "      <td>1.0</td>\n",
       "      <td>31.275000</td>\n",
       "      <td>2.000000</td>\n",
       "      <td>543.000000</td>\n",
       "      <td>3.000000</td>\n",
       "      <td>1.0</td>\n",
       "      <td>4.000000</td>\n",
       "    </tr>\n",
       "    <tr>\n",
       "      <th>max</th>\n",
       "      <td>17.000000</td>\n",
       "      <td>1.0</td>\n",
       "      <td>151.550000</td>\n",
       "      <td>2.000000</td>\n",
       "      <td>853.000000</td>\n",
       "      <td>3.000000</td>\n",
       "      <td>1.0</td>\n",
       "      <td>5.000000</td>\n",
       "    </tr>\n",
       "    <tr>\n",
       "      <th rowspan=\"8\" valign=\"top\">1</th>\n",
       "      <th>count</th>\n",
       "      <td>38.000000</td>\n",
       "      <td>38.0</td>\n",
       "      <td>38.000000</td>\n",
       "      <td>38.000000</td>\n",
       "      <td>38.000000</td>\n",
       "      <td>38.000000</td>\n",
       "      <td>38.0</td>\n",
       "      <td>38.000000</td>\n",
       "    </tr>\n",
       "    <tr>\n",
       "      <th>mean</th>\n",
       "      <td>9.592105</td>\n",
       "      <td>1.0</td>\n",
       "      <td>33.172261</td>\n",
       "      <td>0.868421</td>\n",
       "      <td>416.342105</td>\n",
       "      <td>2.315789</td>\n",
       "      <td>1.0</td>\n",
       "      <td>0.736842</td>\n",
       "    </tr>\n",
       "    <tr>\n",
       "      <th>std</th>\n",
       "      <td>6.159595</td>\n",
       "      <td>0.0</td>\n",
       "      <td>39.725627</td>\n",
       "      <td>0.777072</td>\n",
       "      <td>279.844482</td>\n",
       "      <td>0.774780</td>\n",
       "      <td>0.0</td>\n",
       "      <td>1.031509</td>\n",
       "    </tr>\n",
       "    <tr>\n",
       "      <th>min</th>\n",
       "      <td>0.750000</td>\n",
       "      <td>1.0</td>\n",
       "      <td>7.225000</td>\n",
       "      <td>0.000000</td>\n",
       "      <td>10.000000</td>\n",
       "      <td>1.000000</td>\n",
       "      <td>1.0</td>\n",
       "      <td>0.000000</td>\n",
       "    </tr>\n",
       "    <tr>\n",
       "      <th>25%</th>\n",
       "      <td>4.000000</td>\n",
       "      <td>1.0</td>\n",
       "      <td>12.071875</td>\n",
       "      <td>0.000000</td>\n",
       "      <td>176.000000</td>\n",
       "      <td>2.000000</td>\n",
       "      <td>1.0</td>\n",
       "      <td>0.000000</td>\n",
       "    </tr>\n",
       "    <tr>\n",
       "      <th>50%</th>\n",
       "      <td>10.500000</td>\n",
       "      <td>1.0</td>\n",
       "      <td>19.379150</td>\n",
       "      <td>1.000000</td>\n",
       "      <td>441.500000</td>\n",
       "      <td>2.500000</td>\n",
       "      <td>1.0</td>\n",
       "      <td>0.000000</td>\n",
       "    </tr>\n",
       "    <tr>\n",
       "      <th>75%</th>\n",
       "      <td>15.750000</td>\n",
       "      <td>1.0</td>\n",
       "      <td>32.596875</td>\n",
       "      <td>1.000000</td>\n",
       "      <td>678.750000</td>\n",
       "      <td>3.000000</td>\n",
       "      <td>1.0</td>\n",
       "      <td>1.000000</td>\n",
       "    </tr>\n",
       "    <tr>\n",
       "      <th>max</th>\n",
       "      <td>17.000000</td>\n",
       "      <td>1.0</td>\n",
       "      <td>211.337500</td>\n",
       "      <td>2.000000</td>\n",
       "      <td>876.000000</td>\n",
       "      <td>3.000000</td>\n",
       "      <td>1.0</td>\n",
       "      <td>4.000000</td>\n",
       "    </tr>\n",
       "  </tbody>\n",
       "</table>\n",
       "</div>"
      ],
      "text/plain": [
       "                      Age  Child        Fare      Parch  PassengerId  \\\n",
       "Survived                                                               \n",
       "0        count  17.000000   17.0   17.000000  17.000000    17.000000   \n",
       "         mean    8.441176    1.0   31.911765   1.411765   349.176471   \n",
       "         std     5.061751    0.0   32.402672   0.795206   278.293064   \n",
       "         min     2.000000    1.0    7.854200   0.000000    15.000000   \n",
       "         25%     3.000000    1.0   15.245800   1.000000   115.000000   \n",
       "         50%     9.000000    1.0   27.900000   2.000000   298.000000   \n",
       "         75%    11.000000    1.0   31.275000   2.000000   543.000000   \n",
       "         max    17.000000    1.0  151.550000   2.000000   853.000000   \n",
       "1        count  38.000000   38.0   38.000000  38.000000    38.000000   \n",
       "         mean    9.592105    1.0   33.172261   0.868421   416.342105   \n",
       "         std     6.159595    0.0   39.725627   0.777072   279.844482   \n",
       "         min     0.750000    1.0    7.225000   0.000000    10.000000   \n",
       "         25%     4.000000    1.0   12.071875   0.000000   176.000000   \n",
       "         50%    10.500000    1.0   19.379150   1.000000   441.500000   \n",
       "         75%    15.750000    1.0   32.596875   1.000000   678.750000   \n",
       "         max    17.000000    1.0  211.337500   2.000000   876.000000   \n",
       "\n",
       "                   Pclass   Sex      SibSp  \n",
       "Survived                                    \n",
       "0        count  17.000000  17.0  17.000000  \n",
       "         mean    2.882353   1.0   2.235294  \n",
       "         std     0.485071   0.0   1.714986  \n",
       "         min     1.000000   1.0   0.000000  \n",
       "         25%     3.000000   1.0   1.000000  \n",
       "         50%     3.000000   1.0   3.000000  \n",
       "         75%     3.000000   1.0   4.000000  \n",
       "         max     3.000000   1.0   5.000000  \n",
       "1        count  38.000000  38.0  38.000000  \n",
       "         mean    2.315789   1.0   0.736842  \n",
       "         std     0.774780   0.0   1.031509  \n",
       "         min     1.000000   1.0   0.000000  \n",
       "         25%     2.000000   1.0   0.000000  \n",
       "         50%     2.500000   1.0   0.000000  \n",
       "         75%     3.000000   1.0   1.000000  \n",
       "         max     3.000000   1.0   4.000000  "
      ]
     },
     "execution_count": 38,
     "metadata": {},
     "output_type": "execute_result"
    }
   ],
   "source": [
    "# Por exemplo, existem 55 crianças do sexo feminino no conjunto de treinamento. A maioria delas sobreviveram,\n",
    "# o que pode ser visto na filtragem abaixo...\n",
    "temp = train_df[train_df['Child'] == 1]\n",
    "female_children = temp[temp['Sex'] == 1]\n",
    "female_children.groupby('Survived').describe()"
   ]
  },
  {
   "cell_type": "code",
   "execution_count": 48,
   "metadata": {
    "collapsed": false
   },
   "outputs": [
    {
     "name": "stdout",
     "output_type": "stream",
     "text": [
      "[1]\n"
     ]
    }
   ],
   "source": [
    "# ...Logo, ao se passar para a árvore um exemplo consistindo de uma\n",
    "# criança do sexo feminino, a árvore decidirá que ela deve ter sobrevivido.\n",
    "new_female_child = pd.DataFrame(data=[[1, 1]], columns=['Gender', 'Child'])\n",
    "prediction = my_tree_one.predict(new_female_child)\n",
    "print(prediction)"
   ]
  },
  {
   "cell_type": "code",
   "execution_count": 51,
   "metadata": {
    "collapsed": true
   },
   "outputs": [],
   "source": [
    "SURVIVED = 1\n",
    "DIED = 0"
   ]
  },
  {
   "cell_type": "code",
   "execution_count": 52,
   "metadata": {
    "collapsed": false
   },
   "outputs": [
    {
     "name": "stdout",
     "output_type": "stream",
     "text": [
      "Survived :D\n"
     ]
    }
   ],
   "source": [
    "if (prediction[0] == SURVIVED):\n",
    "    print('Survived :D')\n",
    "else:\n",
    "    print('Died :(')"
   ]
  },
  {
   "cell_type": "code",
   "execution_count": 35,
   "metadata": {
    "collapsed": false
   },
   "outputs": [],
   "source": [
    "test_features_df = test_df.ix[:, ['Sex', 'Age']]\n",
    "test_features_df['Age'] = test_features_df[\"Age\"].fillna(test_features_df[\"Age\"].median())\n",
    "\n",
    "\n",
    "test_features_df[\"Child\"] = 0\n",
    "children = test_features_df[\"Age\"] < 18\n",
    "test_features_df.loc[children, \"Child\"] = 1\n",
    "\n",
    "test_features_df['Sex'] = test_features_df['Sex'].map({'male': 0, 'female': 1})"
   ]
  },
  {
   "cell_type": "code",
   "execution_count": 36,
   "metadata": {
    "collapsed": false
   },
   "outputs": [],
   "source": [
    "test_features = test_features_df[['Sex', 'Child']].values\n",
    "\n",
    "test_targets = my_tree_one.predict(test_features)\n",
    "test_df['Survived'] = test_targets"
   ]
  },
  {
   "cell_type": "code",
   "execution_count": 45,
   "metadata": {
    "collapsed": false
   },
   "outputs": [],
   "source": [
    "test_df.to_csv('./data/test_data_with_results.csv')"
   ]
  },
  {
   "cell_type": "code",
   "execution_count": 42,
   "metadata": {
    "collapsed": false
   },
   "outputs": [
    {
     "data": {
      "text/plain": [
       "array([0, 1])"
      ]
     },
     "execution_count": 42,
     "metadata": {},
     "output_type": "execute_result"
    }
   ],
   "source": []
  },
  {
   "cell_type": "markdown",
   "metadata": {},
   "source": [
    "## Inclusão das features \"Cabin\" e \"Fare\""
   ]
  },
  {
   "cell_type": "code",
   "execution_count": 15,
   "metadata": {
    "collapsed": false
   },
   "outputs": [
    {
     "name": "stdout",
     "output_type": "stream",
     "text": [
      "<class 'pandas.core.frame.DataFrame'>\n",
      "RangeIndex: 891 entries, 0 to 890\n",
      "Data columns (total 2 columns):\n",
      "Cabin    204 non-null object\n",
      "Fare     891 non-null float64\n",
      "dtypes: float64(1), object(1)\n",
      "memory usage: 14.0+ KB\n"
     ]
    }
   ],
   "source": [
    "cabin_fare_df = train_df.ix[:, ['Cabin', 'Fare']]\n",
    "cabin_fare_df.info()"
   ]
  },
  {
   "cell_type": "code",
   "execution_count": 16,
   "metadata": {
    "collapsed": false
   },
   "outputs": [
    {
     "data": {
      "text/plain": [
       "148"
      ]
     },
     "execution_count": 16,
     "metadata": {},
     "output_type": "execute_result"
    }
   ],
   "source": [
    "len(cabin_fare_df['Cabin'].unique())"
   ]
  },
  {
   "cell_type": "markdown",
   "metadata": {},
   "source": [
    "A feature \"Cabin\" é categórica com um range relativamente grande(148 valores diferentes) e várias entradas vazias. Não é adequado codificar essa feature como uma sequência numérica pois isso implicaria uma ordenação dos valores, o que não condiz com a semântica dessa feature e poderia levar a resultados incoerentes. Essa feature será ignorada nesse momento e analisada por último como uma possível inclusão de informação para melhora do resultado final."
   ]
  }
 ],
 "metadata": {
  "kernelspec": {
   "display_name": "Python 3",
   "language": "python",
   "name": "python3"
  },
  "language_info": {
   "codemirror_mode": {
    "name": "ipython",
    "version": 3
   },
   "file_extension": ".py",
   "mimetype": "text/x-python",
   "name": "python",
   "nbconvert_exporter": "python",
   "pygments_lexer": "ipython3",
   "version": "3.4.4"
  }
 },
 "nbformat": 4,
 "nbformat_minor": 0
}
